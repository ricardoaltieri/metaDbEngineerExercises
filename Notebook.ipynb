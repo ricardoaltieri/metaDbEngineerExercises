{
 "cells": [
  {
   "cell_type": "code",
   "execution_count": null,
   "metadata": {},
   "outputs": [],
   "source": [
    "nums = [0,0,1,1,1,2,2,3,3,4]\n",
    "\n",
    "def removeDuplicates(nums: List[int]) -> int:\n",
    "\n",
    "    nums = [n for n in nums if ]\n",
    "\n",
    "    \n"
   ]
  }
 ],
 "metadata": {
  "language_info": {
   "name": "python"
  }
 },
 "nbformat": 4,
 "nbformat_minor": 2
}
